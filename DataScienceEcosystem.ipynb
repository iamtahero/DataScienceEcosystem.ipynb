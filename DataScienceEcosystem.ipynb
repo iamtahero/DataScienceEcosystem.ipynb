{
 "cells": [
  {
   "cell_type": "markdown",
   "id": "264e680e-9d0b-474f-9763-c082c0ebaafc",
   "metadata": {},
   "source": [
    "# Data Science Tools and Ecosystem"
   ]
  },
  {
   "cell_type": "markdown",
   "id": "bca36874-2933-4ea7-a1f4-604560c6e4db",
   "metadata": {},
   "source": [
    "In this notebook, Data Science Tools and Ecosystem are summarized."
   ]
  },
  {
   "cell_type": "markdown",
   "id": "a9e41f69-b56a-4de9-bc26-53f6de2aa8be",
   "metadata": {},
   "source": [
    "Some of the popular languages that Data Scientists use are:  \n",
    "1. Python  \n",
    "2. R  \n",
    "3. SQL  \n",
    "4. Julia  "
   ]
  },
  {
   "cell_type": "markdown",
   "id": "27bfb613-1351-40ca-be26-e7860b7de176",
   "metadata": {},
   "source": [
    "Some of the commonly used libraries used by Data Scientists include:  \n",
    "1. NumPy  \n",
    "2. Pandas  \n",
    "3. Scikit-learn  \n",
    "4. TensorFlow  "
   ]
  },
  {
   "cell_type": "markdown",
   "id": "c0791a34-bf17-491e-9641-a91b9d0ac522",
   "metadata": {},
   "source": [
    "| Data Science Tools |  \n",
    "|--------------------|  \n",
    "| Jupyter Notebook   |  \n",
    "| RStudio            |  \n",
    "| Apache Zeppelin    |  "
   ]
  },
  {
   "cell_type": "markdown",
   "id": "f93e4443-eb7b-43cf-b274-2f44f65329ea",
   "metadata": {},
   "source": [
    "### Below are a few examples of evaluating arithmetic expressions in Python."
   ]
  },
  {
   "cell_type": "code",
   "execution_count": 5,
   "id": "6fba3dc3-61d5-44de-a3c0-208aac51c549",
   "metadata": {},
   "outputs": [
    {
     "data": {
      "text/plain": [
       "17"
      ]
     },
     "execution_count": 5,
     "metadata": {},
     "output_type": "execute_result"
    }
   ],
   "source": [
    "# This a simple arithmetic expression to multiply then add integers\n",
    "(3 * 4) + 5"
   ]
  },
  {
   "cell_type": "code",
   "execution_count": 6,
   "id": "fb6a8561-e94c-4be7-9117-be00f03525d3",
   "metadata": {},
   "outputs": [
    {
     "data": {
      "text/plain": [
       "3.3333333333333335"
      ]
     },
     "execution_count": 6,
     "metadata": {},
     "output_type": "execute_result"
    }
   ],
   "source": [
    "# This will convert 200 minutes to hours by dividing by 60\n",
    "200 / 60"
   ]
  },
  {
   "cell_type": "markdown",
   "id": "354ffa98-9bcf-4559-aecf-f219ce47eaac",
   "metadata": {},
   "source": [
    "**Objectives:**  \n",
    "- List popular languages for Data Science  \n",
    "- List commonly used libraries in Data Science  \n",
    "- Demonstrate examples of arithmetic operations  \n",
    "- Create tables for tools and environments used in Data Science  \n",
    "- Share notebooks via GitHub "
   ]
  },
  {
   "cell_type": "markdown",
   "id": "5da0dc39-745c-43a7-bbe7-547c8bcbdbb5",
   "metadata": {},
   "source": [
    "## Author  \n",
    "Taher Kotwal"
   ]
  },
  {
   "cell_type": "code",
   "execution_count": null,
   "id": "b83f60d2-75e3-4770-a2f3-58e0bc4278e7",
   "metadata": {},
   "outputs": [],
   "source": []
  }
 ],
 "metadata": {
  "kernelspec": {
   "display_name": "Python 3 (ipykernel)",
   "language": "python",
   "name": "python3"
  },
  "language_info": {
   "codemirror_mode": {
    "name": "ipython",
    "version": 3
   },
   "file_extension": ".py",
   "mimetype": "text/x-python",
   "name": "python",
   "nbconvert_exporter": "python",
   "pygments_lexer": "ipython3",
   "version": "3.13.0"
  }
 },
 "nbformat": 4,
 "nbformat_minor": 5
}
